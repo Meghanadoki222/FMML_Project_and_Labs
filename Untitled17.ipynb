{
  "nbformat": 4,
  "nbformat_minor": 0,
  "metadata": {
    "colab": {
      "provenance": [],
      "authorship_tag": "ABX9TyMGptJ0XNH4jNmRQUKrV9tJ",
      "include_colab_link": true
    },
    "kernelspec": {
      "name": "python3",
      "display_name": "Python 3"
    },
    "language_info": {
      "name": "python"
    }
  },
  "cells": [
    {
      "cell_type": "markdown",
      "metadata": {
        "id": "view-in-github",
        "colab_type": "text"
      },
      "source": [
        "<a href=\"https://colab.research.google.com/github/Meghanadoki222/FMML_Project_and_Labs/blob/main/Untitled17.ipynb\" target=\"_parent\"><img src=\"https://colab.research.google.com/assets/colab-badge.svg\" alt=\"Open In Colab\"/></a>"
      ]
    },
    {
      "cell_type": "code",
      "execution_count": null,
      "metadata": {
        "colab": {
          "base_uri": "https://localhost:8080/"
        },
        "id": "LSsnSc3nnhzW",
        "outputId": "4f0a235f-6f82-4667-c79f-1cb978c3530e"
      },
      "outputs": [
        {
          "output_type": "stream",
          "name": "stdout",
          "text": [
            "nohtyp\n"
          ]
        }
      ],
      "source": [
        "word = \"python\"\n",
        "print(word[::-1])"
      ]
    },
    {
      "cell_type": "code",
      "source": [
        "num_list = [1,2,3,4,5]\n",
        "print(num_list[-2])"
      ],
      "metadata": {
        "id": "k_KVwutroTSV"
      },
      "execution_count": null,
      "outputs": []
    },
    {
      "cell_type": "code",
      "source": [
        "s ={'a':1,'b':2}\n",
        "print('a' in s)"
      ],
      "metadata": {
        "id": "fxp-Dmfyoqsq"
      },
      "execution_count": null,
      "outputs": []
    },
    {
      "cell_type": "code",
      "source": [
        "text = \"hello world\"\n",
        "print(text.split())"
      ],
      "metadata": {
        "id": "woyVaPM_pJ4L"
      },
      "execution_count": null,
      "outputs": []
    },
    {
      "cell_type": "code",
      "source": [
        "a=[1,2,3]\n",
        "b=a\n",
        "c=a.copy()\n",
        "c.append(5)\n",
        "b.append(4)\n",
        "print(a,b,c)"
      ],
      "metadata": {
        "id": "hd2Z0M18phob"
      },
      "execution_count": null,
      "outputs": []
    },
    {
      "cell_type": "code",
      "source": [
        "j=\"python3\"\n",
        "print(j[:-2])"
      ],
      "metadata": {
        "id": "NuF5MghjqV-H"
      },
      "execution_count": null,
      "outputs": []
    },
    {
      "cell_type": "code",
      "source": [
        "t=[1,2,3]\n",
        "t[1:3] = [4,5]\n",
        "print(t)"
      ],
      "metadata": {
        "id": "hVr_APHWqveK"
      },
      "execution_count": null,
      "outputs": []
    },
    {
      "cell_type": "code",
      "source": [
        "u={x: x * x for x in range(5)}\n",
        "print(u)"
      ],
      "metadata": {
        "id": "VQjEdawKrGtz"
      },
      "execution_count": null,
      "outputs": []
    },
    {
      "cell_type": "code",
      "source": [
        "x=[1,2,33,4,5]\n",
        "print(x[1:3])"
      ],
      "metadata": {
        "id": "IIXa1Tblrnel"
      },
      "execution_count": null,
      "outputs": []
    },
    {
      "cell_type": "code",
      "source": [
        "my_list = [5,6,7,8]\n",
        "my_list[1:3] = [1,2,3]\n",
        "print(my_list)"
      ],
      "metadata": {
        "id": "weoOxAYtstz5"
      },
      "execution_count": null,
      "outputs": []
    },
    {
      "cell_type": "code",
      "source": [
        "names = [\"alice\",\"bob\",\"charlie\"]\n",
        "print(names[-1])"
      ],
      "metadata": {
        "id": "3-5fMaYLtcLj"
      },
      "execution_count": null,
      "outputs": []
    },
    {
      "cell_type": "code",
      "source": [
        "x=5\n",
        "y=x*2\n",
        "print(y)"
      ],
      "metadata": {
        "id": "NretyolnvP67"
      },
      "execution_count": null,
      "outputs": []
    },
    {
      "cell_type": "code",
      "source": [
        "k= \"abcdefgh\"\n",
        "print(k[::2])"
      ],
      "metadata": {
        "id": "8NGHLxT5vANL"
      },
      "execution_count": null,
      "outputs": []
    },
    {
      "cell_type": "code",
      "source": [
        "data={\"a\":1,\"b\":2,\"c\":3}\n",
        "print(data.get(\"d\",4))"
      ],
      "metadata": {
        "id": "awfbbR6Jv2lj"
      },
      "execution_count": null,
      "outputs": []
    },
    {
      "cell_type": "code",
      "source": [
        "x=10\n",
        "e=3\n",
        "print(x%e)"
      ],
      "metadata": {
        "id": "RDU13ostwnvr"
      },
      "execution_count": null,
      "outputs": []
    }
  ]
}